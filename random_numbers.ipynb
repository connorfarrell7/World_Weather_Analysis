{
 "cells": [
  {
   "cell_type": "code",
   "execution_count": 17,
   "id": "fdfab421",
   "metadata": {},
   "outputs": [],
   "source": [
    "import random as rd\n",
    "import numpy as np\n",
    "import timeit"
   ]
  },
  {
   "cell_type": "code",
   "execution_count": 3,
   "id": "852c4682",
   "metadata": {},
   "outputs": [
    {
     "data": {
      "text/plain": [
       "-48"
      ]
     },
     "execution_count": 3,
     "metadata": {},
     "output_type": "execute_result"
    }
   ],
   "source": [
    "rd.randint(-50,60)"
   ]
  },
  {
   "cell_type": "code",
   "execution_count": 4,
   "id": "841062ba",
   "metadata": {},
   "outputs": [
    {
     "data": {
      "text/plain": [
       "0.5055288378536278"
      ]
     },
     "execution_count": 4,
     "metadata": {},
     "output_type": "execute_result"
    }
   ],
   "source": [
    "rd.random()"
   ]
  },
  {
   "cell_type": "code",
   "execution_count": 8,
   "id": "bc5ab8f0",
   "metadata": {},
   "outputs": [
    {
     "data": {
      "text/plain": [
       "66.02897297236811"
      ]
     },
     "execution_count": 8,
     "metadata": {},
     "output_type": "execute_result"
    }
   ],
   "source": [
    "random_number = rd.randint(-90, 89) + rd.random()\n",
    "random_number"
   ]
  },
  {
   "cell_type": "code",
   "execution_count": 10,
   "id": "04289dfa",
   "metadata": {},
   "outputs": [
    {
     "data": {
      "text/plain": [
       "[78.52368457717147,\n",
       " 79.34508258889015,\n",
       " 44.67590634786672,\n",
       " -71.64493566268409,\n",
       " -52.031770891325394,\n",
       " -66.93953958632798,\n",
       " -64.38432826121438,\n",
       " -20.7351015367274,\n",
       " 35.63679649499469,\n",
       " -30.963710958787885]"
      ]
     },
     "execution_count": 10,
     "metadata": {},
     "output_type": "execute_result"
    }
   ],
   "source": [
    "x = 1\n",
    "latitudes = []\n",
    "while x < 11:\n",
    "    random_lat = random.randint(-90, 89) + random.random()\n",
    "    latitudes.append(random_lat)\n",
    "    x += 1\n",
    "latitudes"
   ]
  },
  {
   "cell_type": "code",
   "execution_count": 11,
   "id": "1408ceec",
   "metadata": {},
   "outputs": [
    {
     "data": {
      "text/plain": [
       "57"
      ]
     },
     "execution_count": 11,
     "metadata": {},
     "output_type": "execute_result"
    }
   ],
   "source": [
    "rd.randrange(-90, 90, step=1)"
   ]
  },
  {
   "cell_type": "code",
   "execution_count": 12,
   "id": "9c8240c8",
   "metadata": {},
   "outputs": [
    {
     "data": {
      "text/plain": [
       "-20"
      ]
     },
     "execution_count": 12,
     "metadata": {},
     "output_type": "execute_result"
    }
   ],
   "source": [
    "rd.randrange(-90, 90, step=10)"
   ]
  },
  {
   "cell_type": "code",
   "execution_count": 13,
   "id": "163683a0",
   "metadata": {},
   "outputs": [
    {
     "data": {
      "text/plain": [
       "51.70152086236041"
      ]
     },
     "execution_count": 13,
     "metadata": {},
     "output_type": "execute_result"
    }
   ],
   "source": [
    "rd.uniform(-90,90)"
   ]
  },
  {
   "cell_type": "code",
   "execution_count": 16,
   "id": "55347bb6",
   "metadata": {},
   "outputs": [
    {
     "data": {
      "text/plain": [
       "array([-57.684311  ,  69.28314926,  43.04316268,  51.44887369,\n",
       "       -33.06358132,  -2.70644931,  46.97322946, -40.07046393,\n",
       "        15.21539657,   6.91287895,  44.42063356,  -9.84458304,\n",
       "        10.19342511,  61.38413403,  32.66045734,  89.83772184,\n",
       "       -48.62844715,  17.11797168,   3.58348534, -17.5982645 ,\n",
       "        -9.23617842, -12.67606766,   7.6735605 ,  69.26657624,\n",
       "       -75.42597719, -89.4647396 , -70.15508456,  88.92488641,\n",
       "       -33.70036325,  84.29085474, -48.94648965,  -8.86800685,\n",
       "        43.48989308,  10.07929196, -53.21331922,  30.99292769,\n",
       "        70.83393705,  26.18274785, -32.22237554,  19.09882433,\n",
       "       -62.48203351,  66.17523748, -75.07202554,  24.21501499,\n",
       "       -16.12805271, -52.1399921 , -31.12530357,  12.81154427,\n",
       "        72.76127705,  87.61148755])"
      ]
     },
     "execution_count": 16,
     "metadata": {},
     "output_type": "execute_result"
    }
   ],
   "source": [
    "np.random.uniform(-90,90,size=50)"
   ]
  },
  {
   "cell_type": "code",
   "execution_count": 20,
   "id": "a235d702",
   "metadata": {},
   "outputs": [
    {
     "name": "stdout",
     "output_type": "stream",
     "text": [
      "13.2 µs ± 192 ns per loop (mean ± std. dev. of 7 runs, 100000 loops each)\n"
     ]
    }
   ],
   "source": [
    "%timeit np.random.uniform(-90,90, size=1500)"
   ]
  },
  {
   "cell_type": "code",
   "execution_count": 21,
   "id": "3c0d5adb",
   "metadata": {},
   "outputs": [
    {
     "name": "stdout",
     "output_type": "stream",
     "text": [
      "1.62 ms ± 276 µs per loop (mean ± std. dev. of 7 runs, 1000 loops each)\n"
     ]
    }
   ],
   "source": [
    "def latitudes(size):\n",
    "    latitudes = []\n",
    "    x = 0\n",
    "    while x < (size):\n",
    "        random_lat = random.randint(-90, 90) + random.random()\n",
    "        latitudes.append(random_lat)\n",
    "        x += 1\n",
    "    return latitudes\n",
    "# Call the function with 1500.\n",
    "%timeit latitudes(1500)"
   ]
  },
  {
   "cell_type": "code",
   "execution_count": 28,
   "id": "8727494f",
   "metadata": {},
   "outputs": [
    {
     "name": "stdout",
     "output_type": "stream",
     "text": [
      "3 ms ± 56 µs per loop (mean ± std. dev. of 7 runs, 100 loops each)\n"
     ]
    }
   ],
   "source": [
    "def latitudes(size):\n",
    "    latitudes = []\n",
    "    x = 0\n",
    "    values = np.arange(0, 1501, step=1)\n",
    "    for x in values:\n",
    "        random_lat = np.random.uniform(-90,90)\n",
    "        latitudes.append(random_lat)\n",
    "        x+=1\n",
    "    return latitudes\n",
    "%timeit latitudes(1500)"
   ]
  },
  {
   "cell_type": "code",
   "execution_count": null,
   "id": "c19da028",
   "metadata": {},
   "outputs": [],
   "source": []
  }
 ],
 "metadata": {
  "kernelspec": {
   "display_name": "PythonData",
   "language": "python",
   "name": "pythondata"
  },
  "language_info": {
   "codemirror_mode": {
    "name": "ipython",
    "version": 3
   },
   "file_extension": ".py",
   "mimetype": "text/x-python",
   "name": "python",
   "nbconvert_exporter": "python",
   "pygments_lexer": "ipython3",
   "version": "3.9.4"
  }
 },
 "nbformat": 4,
 "nbformat_minor": 5
}
